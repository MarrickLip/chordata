{
 "cells": [
  {
   "cell_type": "code",
   "execution_count": 11,
   "id": "continuing-pennsylvania",
   "metadata": {},
   "outputs": [
    {
     "name": "stdout",
     "output_type": "stream",
     "text": [
      "Defaulting to user installation because normal site-packages is not writeable\n",
      "Collecting geojson\n",
      "  Downloading geojson-2.5.0-py2.py3-none-any.whl (14 kB)\n",
      "Installing collected packages: geojson\n",
      "Successfully installed geojson-2.5.0\n"
     ]
    }
   ],
   "source": [
    "!pip install --upgrade pip --quiet\n",
    "!pip install boto3 tqdm pandas --quiet\n",
    "!pip install geojson"
   ]
  },
  {
   "cell_type": "code",
   "execution_count": 43,
   "id": "welcome-trinity",
   "metadata": {},
   "outputs": [],
   "source": [
    "import boto3\n",
    "import re\n",
    "import datetime\n",
    "\n",
    "import pandas as pd\n",
    "import random\n",
    "import json\n",
    "\n",
    "from collections import defaultdict\n",
    "from tqdm.notebook import tqdm\n",
    "\n",
    "s3 = boto3.client('s3')"
   ]
  },
  {
   "cell_type": "code",
   "execution_count": 38,
   "id": "postal-support",
   "metadata": {},
   "outputs": [],
   "source": [
    "# paginator = s3.get_paginator('list_objects_v2').paginate(Bucket='doc-trail-camera-footage')\n",
    "# \n",
    "# f = open('keys.txt', 'w')\n",
    "# for response in tqdm(paginator):\n",
    "#     for obj in response['Contents']:\n",
    "#         f.write(obj['Key'] + '\\n')"
   ]
  },
  {
   "cell_type": "code",
   "execution_count": 6,
   "id": "convertible-might",
   "metadata": {},
   "outputs": [
    {
     "data": {
      "application/vnd.jupyter.widget-view+json": {
       "model_id": "d8b8b168a31343069e262648fa590cea",
       "version_major": 2,
       "version_minor": 0
      },
      "text/plain": [
       "0it [00:00, ?it/s]"
      ]
     },
     "metadata": {},
     "output_type": "display_data"
    }
   ],
   "source": [
    "examples = []\n",
    "for i, key in enumerate(tqdm(open('keys.txt'))):\n",
    "    key = key.strip()\n",
    "    if i % 10000 == 0:\n",
    "        examples += [key]"
   ]
  },
  {
   "cell_type": "code",
   "execution_count": 4,
   "id": "adequate-weekend",
   "metadata": {},
   "outputs": [],
   "source": [
    "keys = [\n",
    "    key.strip()\n",
    "    for key in open('keys.txt')\n",
    "    if re.match(r'^Processed\\/DOC\\/Eastern_Forest_Footage.*.JPG$', key.strip())\n",
    "]"
   ]
  },
  {
   "cell_type": "code",
   "execution_count": 5,
   "id": "cardiovascular-polish",
   "metadata": {},
   "outputs": [
    {
     "data": {
      "application/vnd.jupyter.widget-view+json": {
       "model_id": "48cfb5660a8b46c686ca764110927610",
       "version_major": 2,
       "version_minor": 0
      },
      "text/plain": [
       "  0%|          | 0/768431 [00:00<?, ?it/s]"
      ]
     },
     "metadata": {},
     "output_type": "display_data"
    }
   ],
   "source": [
    "df = defaultdict(list)\n",
    "\n",
    "for key in tqdm(keys[1:]):\n",
    "    match = re.match('^.*\\/(.*)\\/([0-9]*)_(.*).JPG$', key)\n",
    "    device, timestamp, label = match.group(1, 2, 3)\n",
    "    \n",
    "    df['device'].append(device)\n",
    "    df['timestamp'].append(timestamp)\n",
    "    df['label'].append(label)\n",
    "    \n",
    "df = pd.DataFrame(df)"
   ]
  },
  {
   "cell_type": "code",
   "execution_count": 6,
   "id": "geological-prerequisite",
   "metadata": {},
   "outputs": [],
   "source": [
    "def timestamp_to_month(timestamp):\n",
    "    date = datetime.datetime.strptime(timestamp, '%Y%m%d%H%M%S')\n",
    "    return date.strftime('%b %Y')\n",
    "    \n",
    "df['month'] = df.timestamp.apply(timestamp_to_month)"
   ]
  },
  {
   "cell_type": "code",
   "execution_count": 7,
   "id": "reserved-october",
   "metadata": {},
   "outputs": [
    {
     "data": {
      "text/html": [
       "<div>\n",
       "<style scoped>\n",
       "    .dataframe tbody tr th:only-of-type {\n",
       "        vertical-align: middle;\n",
       "    }\n",
       "\n",
       "    .dataframe tbody tr th {\n",
       "        vertical-align: top;\n",
       "    }\n",
       "\n",
       "    .dataframe thead th {\n",
       "        text-align: right;\n",
       "    }\n",
       "</style>\n",
       "<table border=\"1\" class=\"dataframe\">\n",
       "  <thead>\n",
       "    <tr style=\"text-align: right;\">\n",
       "      <th></th>\n",
       "      <th>device</th>\n",
       "      <th>timestamp</th>\n",
       "      <th>label</th>\n",
       "      <th>month</th>\n",
       "    </tr>\n",
       "  </thead>\n",
       "  <tbody>\n",
       "    <tr>\n",
       "      <th>0</th>\n",
       "      <td>DCamA01_2019_2</td>\n",
       "      <td>20190329141439</td>\n",
       "      <td>human</td>\n",
       "      <td>Mar 2019</td>\n",
       "    </tr>\n",
       "    <tr>\n",
       "      <th>1</th>\n",
       "      <td>DCamA01_2019_2</td>\n",
       "      <td>20190329141441</td>\n",
       "      <td>human</td>\n",
       "      <td>Mar 2019</td>\n",
       "    </tr>\n",
       "    <tr>\n",
       "      <th>2</th>\n",
       "      <td>DCamA01_2019_2</td>\n",
       "      <td>20190329141444</td>\n",
       "      <td>human</td>\n",
       "      <td>Mar 2019</td>\n",
       "    </tr>\n",
       "    <tr>\n",
       "      <th>3</th>\n",
       "      <td>DCamA01_2019_2</td>\n",
       "      <td>20190329141514</td>\n",
       "      <td>human</td>\n",
       "      <td>Mar 2019</td>\n",
       "    </tr>\n",
       "    <tr>\n",
       "      <th>4</th>\n",
       "      <td>DCamA01_2019_2</td>\n",
       "      <td>20190329141517</td>\n",
       "      <td>human</td>\n",
       "      <td>Mar 2019</td>\n",
       "    </tr>\n",
       "    <tr>\n",
       "      <th>...</th>\n",
       "      <td>...</td>\n",
       "      <td>...</td>\n",
       "      <td>...</td>\n",
       "      <td>...</td>\n",
       "    </tr>\n",
       "    <tr>\n",
       "      <th>768426</th>\n",
       "      <td>HCAMG13_2019_3</td>\n",
       "      <td>20190723013714</td>\n",
       "      <td>empty</td>\n",
       "      <td>Jul 2019</td>\n",
       "    </tr>\n",
       "    <tr>\n",
       "      <th>768427</th>\n",
       "      <td>HCAMG13_2019_3</td>\n",
       "      <td>20190723013716</td>\n",
       "      <td>empty</td>\n",
       "      <td>Jul 2019</td>\n",
       "    </tr>\n",
       "    <tr>\n",
       "      <th>768428</th>\n",
       "      <td>HCAMG13_2019_3</td>\n",
       "      <td>20190723104852</td>\n",
       "      <td>empty</td>\n",
       "      <td>Jul 2019</td>\n",
       "    </tr>\n",
       "    <tr>\n",
       "      <th>768429</th>\n",
       "      <td>HCAMG13_2019_3</td>\n",
       "      <td>20190723104855</td>\n",
       "      <td>empty</td>\n",
       "      <td>Jul 2019</td>\n",
       "    </tr>\n",
       "    <tr>\n",
       "      <th>768430</th>\n",
       "      <td>HCAMG13_2019_3</td>\n",
       "      <td>20190723104857</td>\n",
       "      <td>empty</td>\n",
       "      <td>Jul 2019</td>\n",
       "    </tr>\n",
       "  </tbody>\n",
       "</table>\n",
       "<p>768431 rows × 4 columns</p>\n",
       "</div>"
      ],
      "text/plain": [
       "                device       timestamp  label     month\n",
       "0       DCamA01_2019_2  20190329141439  human  Mar 2019\n",
       "1       DCamA01_2019_2  20190329141441  human  Mar 2019\n",
       "2       DCamA01_2019_2  20190329141444  human  Mar 2019\n",
       "3       DCamA01_2019_2  20190329141514  human  Mar 2019\n",
       "4       DCamA01_2019_2  20190329141517  human  Mar 2019\n",
       "...                ...             ...    ...       ...\n",
       "768426  HCAMG13_2019_3  20190723013714  empty  Jul 2019\n",
       "768427  HCAMG13_2019_3  20190723013716  empty  Jul 2019\n",
       "768428  HCAMG13_2019_3  20190723104852  empty  Jul 2019\n",
       "768429  HCAMG13_2019_3  20190723104855  empty  Jul 2019\n",
       "768430  HCAMG13_2019_3  20190723104857  empty  Jul 2019\n",
       "\n",
       "[768431 rows x 4 columns]"
      ]
     },
     "execution_count": 7,
     "metadata": {},
     "output_type": "execute_result"
    }
   ],
   "source": [
    "df"
   ]
  },
  {
   "cell_type": "code",
   "execution_count": 13,
   "id": "supposed-reducing",
   "metadata": {},
   "outputs": [],
   "source": [
    "records = df.groupby(['device', 'month', 'label']).agg(['count']).reset_index()"
   ]
  },
  {
   "cell_type": "code",
   "execution_count": 44,
   "id": "accurate-institute",
   "metadata": {},
   "outputs": [],
   "source": [
    "report = {\n",
    "    'devices': defaultdict(dict),\n",
    "    'detections': defaultdict(lambda: defaultdict(lambda: defaultdict(int))),\n",
    "}\n",
    "\n",
    "for device in records.device.unique():\n",
    "    report['devices'][device]['lat'] = random.uniform(-36.77, -36.79) \n",
    "    report['devices'][device]['lon'] = random.uniform(174.83, 174.88)\n",
    "    \n",
    "for record in records.itertuples(name=None):\n",
    "    _, device, month, label, n = record\n",
    "    if label in ['mouse', 'possum', 'robin', 'tomtit', 'rat', 'cat', 'kea', 'kiwi']:\n",
    "        label = label.capitalize()\n",
    "    else:\n",
    "        continue\n",
    "        \n",
    "    report['detections'][month][label][device] = n\n",
    "    report['detections'][month]['Total'][device] += n\n",
    "    \n",
    "json.dump(report, open('report.json', 'w'))"
   ]
  },
  {
   "cell_type": "code",
   "execution_count": null,
   "id": "mysterious-salmon",
   "metadata": {},
   "outputs": [],
   "source": []
  }
 ],
 "metadata": {
  "kernelspec": {
   "display_name": "Python 3",
   "language": "python",
   "name": "python3"
  },
  "language_info": {
   "codemirror_mode": {
    "name": "ipython",
    "version": 3
   },
   "file_extension": ".py",
   "mimetype": "text/x-python",
   "name": "python",
   "nbconvert_exporter": "python",
   "pygments_lexer": "ipython3",
   "version": "3.8.5"
  }
 },
 "nbformat": 4,
 "nbformat_minor": 5
}
